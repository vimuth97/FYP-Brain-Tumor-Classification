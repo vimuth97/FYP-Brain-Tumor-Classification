{
  "nbformat": 4,
  "nbformat_minor": 0,
  "metadata": {
    "colab": {
      "name": "FYP snippets.ipynb",
      "provenance": [],
      "collapsed_sections": [],
      "include_colab_link": true
    },
    "kernelspec": {
      "name": "python3",
      "display_name": "Python 3"
    },
    "language_info": {
      "name": "python"
    }
  },
  "cells": [
    {
      "cell_type": "markdown",
      "metadata": {
        "id": "view-in-github",
        "colab_type": "text"
      },
      "source": [
        "<a href=\"https://colab.research.google.com/github/vimuth97/FYP-Brain-Tumor-Classification/blob/main/FYP_snippets.ipynb\" target=\"_parent\"><img src=\"https://colab.research.google.com/assets/colab-badge.svg\" alt=\"Open In Colab\"/></a>"
      ]
    },
    {
      "cell_type": "code",
      "metadata": {
        "colab": {
          "base_uri": "https://localhost:8080/"
        },
        "id": "0NCtGcBv0ktO",
        "outputId": "3f32001e-f804-4975-e1cf-b9830dbd069a"
      },
      "source": [
        "pip install medpy"
      ],
      "execution_count": null,
      "outputs": [
        {
          "output_type": "stream",
          "name": "stdout",
          "text": [
            "Requirement already satisfied: medpy in /usr/local/lib/python3.7/dist-packages (0.4.0)\n",
            "Requirement already satisfied: SimpleITK>=1.1.0 in /usr/local/lib/python3.7/dist-packages (from medpy) (2.1.0)\n",
            "Requirement already satisfied: numpy>=1.11.0 in /usr/local/lib/python3.7/dist-packages (from medpy) (1.19.5)\n",
            "Requirement already satisfied: scipy>=1.1.0 in /usr/local/lib/python3.7/dist-packages (from medpy) (1.4.1)\n"
          ]
        }
      ]
    },
    {
      "cell_type": "code",
      "metadata": {
        "id": "xfgUvdPRA8s4"
      },
      "source": [
        "import tensorflow as tf\n",
        "import torch\n",
        "\n",
        "\n",
        "tf.test.gpu_device_name()"
      ],
      "execution_count": null,
      "outputs": []
    },
    {
      "cell_type": "code",
      "metadata": {
        "id": "YLB_bPIeD1--",
        "colab": {
          "base_uri": "https://localhost:8080/",
          "height": 131
        },
        "outputId": "c0583e2b-426c-40b7-dd6a-9b8d08b3ef60"
      },
      "source": [
        "y = torch.tensor([1, 2, 3, 4])\n",
        "x = torch.tensor([[1, 2, 3, 4], [1, 2, 3, 4]])"
      ],
      "execution_count": null,
      "outputs": [
        {
          "output_type": "error",
          "ename": "SyntaxError",
          "evalue": "ignored",
          "traceback": [
            "\u001b[0;36m  File \u001b[0;32m\"<ipython-input-18-e57d596850e8>\"\u001b[0;36m, line \u001b[0;32m2\u001b[0m\n\u001b[0;31m    y = torch.tensor([1, 2, 3, 4])\u001b[0m\n\u001b[0m    ^\u001b[0m\n\u001b[0;31mSyntaxError\u001b[0m\u001b[0;31m:\u001b[0m invalid syntax\n"
          ]
        }
      ]
    },
    {
      "cell_type": "code",
      "metadata": {
        "id": "ICxSm7TCD9O1"
      },
      "source": [
        "print(y.shape)\n",
        "x.shape"
      ],
      "execution_count": null,
      "outputs": []
    },
    {
      "cell_type": "code",
      "metadata": {
        "id": "-sEecC7uGKqg"
      },
      "source": [
        "x1 = torch.unsqueeze(x, 2)\n",
        "x1"
      ],
      "execution_count": null,
      "outputs": []
    },
    {
      "cell_type": "code",
      "metadata": {
        "id": "I-zZNJLQGNkE"
      },
      "source": [
        "x1.shape"
      ],
      "execution_count": null,
      "outputs": []
    },
    {
      "cell_type": "code",
      "metadata": {
        "id": "98lRdmp7Bcoe"
      },
      "source": [
        "from tensorflow.python.client import device_lib\n",
        "device_lib.list_local_devices()"
      ],
      "execution_count": null,
      "outputs": []
    },
    {
      "cell_type": "code",
      "metadata": {
        "id": "FWiZSPqK0blu"
      },
      "source": [
        "from medpy.io import load\n",
        "from matplotlib import pyplot as plt"
      ],
      "execution_count": null,
      "outputs": []
    },
    {
      "cell_type": "code",
      "metadata": {
        "id": "Rd_9xyl41Yru"
      },
      "source": [
        "image_data, image_header = load('/content/VSD.Brain.XX.O.MR_Flair.54512.mha')\n",
        "print(image_data.shape)"
      ],
      "execution_count": null,
      "outputs": []
    },
    {
      "cell_type": "code",
      "metadata": {
        "id": "RZzpvI5W335G"
      },
      "source": [
        "image, header = load('/content/VSD.Brain.XX.O.MR_Flair.54512.mha')"
      ],
      "execution_count": null,
      "outputs": []
    },
    {
      "cell_type": "code",
      "metadata": {
        "id": "sRfGOdg229_u"
      },
      "source": [
        "def show_slices(slices):\n",
        "    \"\"\" Function to display row of image slices \"\"\"\n",
        "    fig, axes = plt.subplots(1, len(slices))\n",
        "    for i, slc in enumerate(slices):\n",
        "        axes[i].imshow(slc.T, cmap=\"gray\", origin=\"lower\")"
      ],
      "execution_count": null,
      "outputs": []
    },
    {
      "cell_type": "code",
      "metadata": {
        "id": "nWJ0x6pU1kbd"
      },
      "source": [
        "    slice_0 = image_data[120, :, :]\n",
        "    slice_1 = image_data[:, 120, :]\n",
        "    slice_2 = image_data[:, :, 78]\n",
        "    show_slices([slice_0, slice_1, slice_2])\n",
        "    plt.suptitle(\"segmented image\")\n",
        "    plt.show()"
      ],
      "execution_count": null,
      "outputs": []
    },
    {
      "cell_type": "code",
      "metadata": {
        "id": "t52tZ5zv4CU0"
      },
      "source": [
        "    slice_0 = image[120, :, :]\n",
        "    slice_1 = image[:, 120, :]\n",
        "    slice_2 = image[:, :, 78]\n",
        "    show_slices([slice_0, slice_1, slice_2])\n",
        "    plt.suptitle(\"flair image\")\n",
        "    plt.show()"
      ],
      "execution_count": null,
      "outputs": []
    },
    {
      "cell_type": "code",
      "metadata": {
        "id": "WJnP7wJ__Uog"
      },
      "source": [
        "def stack_uneven(arrays, fill_value=0.):\n",
        "    sizes = [a.shape for a in arrays]\n",
        "    max_sizes = numpy.max(list(zip(*sizes)), -1)\n",
        "    # print('max', max_sizes)\n",
        "    result = numpy.full((len(arrays),) + tuple(max_sizes), fill_value)\n",
        "    for i, a in enumerate(arrays):\n",
        "      slices = tuple(slice(0,s) for s in sizes[i])\n",
        "      result[i][slices] = a\n",
        "    return result"
      ],
      "execution_count": null,
      "outputs": []
    },
    {
      "cell_type": "code",
      "metadata": {
        "id": "Ob6-1j58_ofT"
      },
      "source": [
        "image = stack_uneven(image_stack, 0)"
      ],
      "execution_count": null,
      "outputs": []
    },
    {
      "cell_type": "markdown",
      "metadata": {
        "id": "4S6WCLC5AB6u"
      },
      "source": [
        "Standard normalization of a tensor"
      ]
    },
    {
      "cell_type": "code",
      "metadata": {
        "id": "R7xej4YYAMXA"
      },
      "source": [
        "import torch"
      ],
      "execution_count": 2,
      "outputs": []
    },
    {
      "cell_type": "code",
      "metadata": {
        "colab": {
          "base_uri": "https://localhost:8080/"
        },
        "id": "F3Mj1PH1_9KE",
        "outputId": "3c3c153b-02e6-450f-ae32-4b60cb45f89c"
      },
      "source": [
        "a = torch.randn(2, 2, 2, 2)\n",
        "a"
      ],
      "execution_count": 7,
      "outputs": [
        {
          "output_type": "execute_result",
          "data": {
            "text/plain": [
              "tensor([[[[-0.2732, -3.0315],\n",
              "          [ 0.4418, -0.2233]],\n",
              "\n",
              "         [[-0.5138, -1.7142],\n",
              "          [-0.7243, -0.9348]]],\n",
              "\n",
              "\n",
              "        [[[-0.0870,  0.3298],\n",
              "          [-2.1797, -0.3133]],\n",
              "\n",
              "         [[ 0.2047, -1.5062],\n",
              "          [-0.3082, -0.1088]]]])"
            ]
          },
          "metadata": {},
          "execution_count": 7
        }
      ]
    },
    {
      "cell_type": "code",
      "metadata": {
        "colab": {
          "base_uri": "https://localhost:8080/"
        },
        "id": "uO6F2B0-AdHw",
        "outputId": "c43dc1b7-fcb3-4ff9-b115-c8c1aabf4553"
      },
      "source": [
        "mean = torch.mean(a)\n",
        "std = torch.std(a)\n",
        "print('mean', mean)\n",
        "print('std', std)"
      ],
      "execution_count": 13,
      "outputs": [
        {
          "output_type": "stream",
          "name": "stdout",
          "text": [
            "mean tensor(-0.6839)\n",
            "std tensor(0.9665)\n"
          ]
        }
      ]
    },
    {
      "cell_type": "code",
      "metadata": {
        "colab": {
          "base_uri": "https://localhost:8080/"
        },
        "id": "OFAsXkaXAjRg",
        "outputId": "704501a7-a6ef-438d-a4bd-5b3968f48388"
      },
      "source": [
        "normalised = (a-mean)/std\n",
        "normalised"
      ],
      "execution_count": 15,
      "outputs": [
        {
          "output_type": "execute_result",
          "data": {
            "text/plain": [
              "tensor([[[[ 0.4249, -2.4291],\n",
              "          [ 1.1648,  0.4765]],\n",
              "\n",
              "         [[ 0.1760, -1.0661],\n",
              "          [-0.0419, -0.2596]]],\n",
              "\n",
              "\n",
              "        [[[ 0.6176,  1.0488],\n",
              "          [-1.5477,  0.3834]],\n",
              "\n",
              "         [[ 0.9194, -0.8508],\n",
              "          [ 0.3887,  0.5950]]]])"
            ]
          },
          "metadata": {},
          "execution_count": 15
        }
      ]
    },
    {
      "cell_type": "code",
      "metadata": {
        "colab": {
          "base_uri": "https://localhost:8080/"
        },
        "id": "lQSw60cwA8No",
        "outputId": "5acacfd3-4afa-4aed-db04-0b5230298124"
      },
      "source": [
        "print(torch.mean(normalised))\n",
        "print(torch.std(normalised))"
      ],
      "execution_count": 17,
      "outputs": [
        {
          "output_type": "stream",
          "name": "stdout",
          "text": [
            "tensor(-9.6858e-08)\n",
            "tensor(1.)\n"
          ]
        }
      ]
    },
    {
      "cell_type": "markdown",
      "metadata": {
        "id": "5ZG68fwwC5dz"
      },
      "source": [
        "Standard normalisation of a numpy array"
      ]
    },
    {
      "cell_type": "code",
      "metadata": {
        "id": "-tIDBdQFC8Qh"
      },
      "source": [
        "import numpy as np"
      ],
      "execution_count": 19,
      "outputs": []
    },
    {
      "cell_type": "code",
      "metadata": {
        "id": "9X9yhrj-C_GA"
      },
      "source": [
        "a = np.array([[1, 2], [3, 4], [5,6]])\n",
        "mean = np.mean(a)\n",
        "std = np.std(a)\n",
        "print(mean, std)"
      ],
      "execution_count": 21,
      "outputs": []
    },
    {
      "cell_type": "code",
      "metadata": {
        "id": "PgduVJnlD0mp",
        "outputId": "9e9b9056-a7b8-490c-a9de-5be79913820c",
        "colab": {
          "base_uri": "https://localhost:8080/"
        }
      },
      "source": [
        "norm = (a-mean)/std\n",
        "print(np.mean(norm), np.std(norm))"
      ],
      "execution_count": 28,
      "outputs": [
        {
          "output_type": "stream",
          "name": "stdout",
          "text": [
            "-3.700743415417188e-17 1.0\n"
          ]
        }
      ]
    }
  ]
}