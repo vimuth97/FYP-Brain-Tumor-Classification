{
  "nbformat": 4,
  "nbformat_minor": 0,
  "metadata": {
    "colab": {
      "name": "split_regions.ipynb",
      "private_outputs": true,
      "provenance": [],
      "collapsed_sections": [],
      "authorship_tag": "ABX9TyNDLYRhWUod8PV3R9UXQvTz",
      "include_colab_link": true
    },
    "kernelspec": {
      "name": "python3",
      "display_name": "Python 3"
    },
    "language_info": {
      "name": "python"
    }
  },
  "cells": [
    {
      "cell_type": "markdown",
      "metadata": {
        "id": "view-in-github",
        "colab_type": "text"
      },
      "source": [
        "<a href=\"https://colab.research.google.com/github/vimuth97/FYP-Brain-Tumor-Classification/blob/main/Basic%20pathology%20model/split_regions.ipynb\" target=\"_parent\"><img src=\"https://colab.research.google.com/assets/colab-badge.svg\" alt=\"Open In Colab\"/></a>"
      ]
    },
    {
      "cell_type": "code",
      "metadata": {
        "id": "LXVDk5Lceij6"
      },
      "source": [
        "import os\n",
        "import numpy as np\n",
        "import time\n",
        "import argparse\n",
        "import pdb\n",
        "import pandas as pd\n",
        "import math\n",
        "import xml.etree.ElementTree as ET\n",
        "from xml.dom import minidom\n",
        "import multiprocessing as mp\n",
        "import cv2\n",
        "import matplotlib.pyplot as plt\n",
        "from PIL import Image\n",
        "import h5py\n",
        "import itertools\n",
        "import pickle\n",
        "!apt update && apt install -y openslide-tools\n",
        "!pip install openslide-python \n",
        "import openslide "
      ],
      "execution_count": null,
      "outputs": []
    },
    {
      "cell_type": "code",
      "metadata": {
        "id": "zi4EFNWCesRj"
      },
      "source": [
        "from google.colab import drive\n",
        "drive.mount('/content/gdrive')"
      ],
      "execution_count": null,
      "outputs": []
    },
    {
      "cell_type": "code",
      "metadata": {
        "id": "WfH6C8ExfPrG"
      },
      "source": [
        "def splitRegions(source,regions_dir):\n",
        "  #image = \"CPM19_CBICA_AAB_1.tiff\"\n",
        "  slides = sorted(os.listdir(source))\n",
        "  slides = [slide for slide in slides if os.path.isfile(os.path.join(source, slide))]\n",
        "  i=0\n",
        "  for file in slides:\n",
        "    if i==1:\n",
        "      print(\"Line breaked\")\n",
        "      break\n",
        "    file_name = file.split(\".\")\n",
        "    \n",
        "    full_path = os.path.join(source, file)\n",
        "    wsi = openslide.OpenSlide(full_path)\n",
        "\n",
        "    # Read the image by 4000 x 4000 slides. To identify all the regions following method used.\n",
        "    wsi_h, wsi_w = wsi.level_dimensions[0]\n",
        "\n",
        "    width_coor=[i for i in range(0,wsi_w,4000)]\n",
        "    height_coor=[i for i in range(0,wsi_h,4000)]\n",
        "    \n",
        "    # Adding last pixel coordinate to calclute acurate region sizes\n",
        "    width_coor.append(wsi_w)\n",
        "    height_coor.append(wsi_h)\n",
        "\n",
        "    for ht in range (len(height_coor)-1):\n",
        "      for wd in range (len(width_coor)-1):\n",
        "        h0,w0 = height_coor[ht], width_coor[wd] \n",
        "        newFileName = file_name[0]+\"-\"+str(h0)+\"_\"+str(w0)+\".tiff\"\n",
        "        savePath = os.path.join(regions_dir, newFileName)\n",
        "        if not (os.path.isfile(savePath)):\n",
        "          h_size,w_size = (height_coor[ht+1] - height_coor[ht]) , (width_coor[wd+1] - width_coor[wd])\n",
        "          wsi_region = wsi.read_region((h0,w0),0,(w_size,h_size))    \n",
        "          wsi_region.convert('RGB').save(savePath)\n",
        "          print(newFileName+\" file written.\")\n",
        "    i+=1\n",
        "  print(slides)\n",
        "\n",
        "\n",
        "splitRegions('gdrive/My Drive/Data_Directory','gdrive/My Drive/Regions')"
      ],
      "execution_count": null,
      "outputs": []
    },
    {
      "cell_type": "code",
      "metadata": {
        "id": "3tLoEm-9fyhF"
      },
      "source": [
        ""
      ],
      "execution_count": null,
      "outputs": []
    }
  ]
}