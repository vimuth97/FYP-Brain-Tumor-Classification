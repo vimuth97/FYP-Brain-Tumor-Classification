{
  "nbformat": 4,
  "nbformat_minor": 0,
  "metadata": {
    "colab": {
      "name": "rejoin_patches.ipynb",
      "private_outputs": true,
      "provenance": [],
      "authorship_tag": "ABX9TyNnoMVXTSFP0BAhDrmnmScz",
      "include_colab_link": true
    },
    "kernelspec": {
      "name": "python3",
      "display_name": "Python 3"
    },
    "language_info": {
      "name": "python"
    }
  },
  "cells": [
    {
      "cell_type": "markdown",
      "metadata": {
        "id": "view-in-github",
        "colab_type": "text"
      },
      "source": [
        "<a href=\"https://colab.research.google.com/github/vimuth97/FYP-Brain-Tumor-Classification/blob/main/Basic%20pathology%20model/rejoin_patches.ipynb\" target=\"_parent\"><img src=\"https://colab.research.google.com/assets/colab-badge.svg\" alt=\"Open In Colab\"/></a>"
      ]
    },
    {
      "cell_type": "code",
      "metadata": {
        "id": "FX4AGz9TKcQk"
      },
      "source": [
        "import os\n",
        "import numpy as np\n",
        "import h5py"
      ],
      "execution_count": null,
      "outputs": []
    },
    {
      "cell_type": "code",
      "metadata": {
        "id": "35TiCVbiLNXM"
      },
      "source": [
        "from google.colab import drive\n",
        "drive.mount('/content/gdrive')"
      ],
      "execution_count": null,
      "outputs": []
    },
    {
      "cell_type": "code",
      "metadata": {
        "id": "-xYSJqNyRWjQ"
      },
      "source": [
        "def getAllImageNames(root_dir):\n",
        "    files = os.listdir(root_dir)\n",
        "    fileNames = []\n",
        "    for file in files:\n",
        "        file = file.split(\".\")\n",
        "        fileNames.append(file[0])\n",
        "    return fileNames\n",
        "\n",
        "def getAllPathsForImage(name,patches_dir):\n",
        "    files = os.listdir(patches_dir)\n",
        "    patchSet = []\n",
        "    for file in files:\n",
        "        fileName = file.split(\".\")\n",
        "        fileName = fileName[0].split(\"-\")\n",
        "        if fileName[0] == name:\n",
        "            patchSet.append(file)\n",
        "    return patchSet\n",
        "\n",
        "#getAllImageNames('gdrive/My Drive/Data_Directory')\n",
        "getAllPathsForImage('CPM19_CBICA_AAB_1','gdrive/My Drive/RESULTS_DIRECTORY/patches')"
      ],
      "execution_count": null,
      "outputs": []
    },
    {
      "cell_type": "code",
      "metadata": {
        "id": "fPM2YJf5LDO0"
      },
      "source": [
        "files = os.listdir('gdrive/My Drive/RESULTS_DIRECTORY/patches') \n",
        "allCoordinates = np.empty((0,2), int)\n",
        "for f in files:\n",
        "    file_path = os.path.join('gdrive/My Drive/RESULTS_DIRECTORY/patches', f)   \n",
        "    fileName = f.split(\".\")\n",
        "    fileName = fileName[0].split(\"-\")\n",
        "    coordinates = [int(x) for x in fileName[1].split(\"_\")]\n",
        "    print(coordinates)\n",
        "    with h5py.File(file_path,'r') as hdf5_file:\n",
        "        dset = hdf5_file['coords']\n",
        "        for name, value in dset.attrs.items():\n",
        "            print(name, value)"
      ],
      "execution_count": null,
      "outputs": []
    },
    {
      "cell_type": "code",
      "metadata": {
        "id": "sr6rjO3aLmkw"
      },
      "source": [
        ""
      ],
      "execution_count": null,
      "outputs": []
    }
  ]
}