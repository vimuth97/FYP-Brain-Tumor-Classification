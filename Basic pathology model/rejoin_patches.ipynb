{
  "nbformat": 4,
  "nbformat_minor": 0,
  "metadata": {
    "colab": {
      "name": "rejoin_patches.ipynb",
      "private_outputs": true,
      "provenance": [],
      "authorship_tag": "ABX9TyM3VEz2mYW0DSPJ78B1J8WL",
      "include_colab_link": true
    },
    "kernelspec": {
      "name": "python3",
      "display_name": "Python 3"
    },
    "language_info": {
      "name": "python"
    }
  },
  "cells": [
    {
      "cell_type": "markdown",
      "metadata": {
        "id": "view-in-github",
        "colab_type": "text"
      },
      "source": [
        "<a href=\"https://colab.research.google.com/github/vimuth97/FYP-Brain-Tumor-Classification/blob/main/Basic%20pathology%20model/rejoin_patches.ipynb\" target=\"_parent\"><img src=\"https://colab.research.google.com/assets/colab-badge.svg\" alt=\"Open In Colab\"/></a>"
      ]
    },
    {
      "cell_type": "code",
      "metadata": {
        "id": "FX4AGz9TKcQk"
      },
      "source": [
        "import os\n",
        "import numpy as np\n",
        "import h5py\n",
        "!apt update && apt install -y openslide-tools\n",
        "!pip install openslide-python \n",
        "import openslide "
      ],
      "execution_count": null,
      "outputs": []
    },
    {
      "cell_type": "code",
      "metadata": {
        "id": "35TiCVbiLNXM"
      },
      "source": [
        "from google.colab import drive\n",
        "drive.mount('/content/gdrive')"
      ],
      "execution_count": null,
      "outputs": []
    },
    {
      "cell_type": "code",
      "metadata": {
        "id": "-xYSJqNyRWjQ"
      },
      "source": [
        "#Get all image names in the Data directory\n",
        "def getAllImageNames(root_dir):\n",
        "    files = os.listdir(root_dir)\n",
        "    fileNames = []\n",
        "    for file in files:\n",
        "        file = file.split(\".\")\n",
        "        fileNames.append(file[0])\n",
        "    return fileNames\n",
        "\n",
        "# Get all patchs which are sub region of given image name\n",
        "def getAllPatchFilesForImage(name,patches_dir):\n",
        "    files = os.listdir(patches_dir)\n",
        "    patchSet = []\n",
        "    for file in files:\n",
        "        fileName = file.split(\".\")\n",
        "        fileName = fileName[0].split(\"-\")\n",
        "        if fileName[0] == name:\n",
        "            patchSet.append(file)\n",
        "    return patchSet\n",
        "\n",
        "def getWSIDimentions(path):\n",
        "    wsi = openslide.OpenSlide(path)\n",
        "    wsi_h, wsi_w = wsi.level_dimensions[0]\n",
        "    return [wsi_h,wsi_w]\n",
        "\n",
        "#getAllImageNames('gdrive/My Drive/Data_Directory')\n",
        "#print(getAllPatchFilesForImage('CPM19_CBICA_AAB_1','gdrive/My Drive/RESULTS_DIRECTORY/patches'))"
      ],
      "execution_count": null,
      "outputs": []
    },
    {
      "cell_type": "code",
      "metadata": {
        "id": "hWyIs96qC-GG"
      },
      "source": [
        "def rejoinPatches(save_dir,image_dir,patches_dir):\n",
        "    imageFiles = getAllImageNames(image_dir)\n",
        "    for name in imageFiles:\n",
        "        patchFiles = getAllPatchFilesForImage(name,patches_dir)\n",
        "        print(name,\"\\nNo of Patches: \"+str(len(patchFiles)))\n",
        "        allCoordinates = np.empty((0,2), int)\n",
        "        img_dim = getWSIDimentions(os.path.join(image_dir, name+\".tiff\"))\n",
        "        \n",
        "        for patchFile in patchFiles:\n",
        "            patch_file_path = os.path.join(patches_dir, patchFile)\n",
        "            #Extract coordinates of the regions\n",
        "            patchFileName = patchFile.split(\".\")\n",
        "            patchFileName = patchFileName[0].split(\"-\")\n",
        "            coordinates = [int(x) for x in patchFileName[1].split(\"_\")] # h,w\n",
        "\n",
        "            # Open patch file\n",
        "            with h5py.File(patch_file_path,'r') as hdf5_file:\n",
        "                data_set = hdf5_file['coords']\n",
        "                for cd in data_set:\n",
        "                    allCoordinates = np.append(allCoordinates,[[cd[0]+coordinates[0] , cd[1]+coordinates[1]]], axis = 0) # x+w , y+h\n",
        "                print(np.shape(data_set),np.shape(allCoordinates))\n",
        "            \n",
        "        print(np.shape(allCoordinates))\n",
        "        complete_patch_path = os.path.join(save_dir, name)+'.h5'\n",
        "        patch_file = h5py.File(complete_patch_path, \"a\")\n",
        "\n",
        "        dtype = allCoordinates.dtype\n",
        "        img_shape = allCoordinates.shape\n",
        "        maxshape = (None, 2)\n",
        "        dset = patch_file.create_dataset('coords', \n",
        "                                shape=img_shape, maxshape=maxshape,  chunks=(1, 2), dtype=dtype)\n",
        "        dset[:] = allCoordinates\n",
        "        dset.attrs['wsi_name'] = name\n",
        "        dset.attrs['downsample'] = [1.,1.]\n",
        "        dset.attrs['downsampled_level_dim'] = img_dim\n",
        "        dset.attrs['level_dim'] = img_dim\n",
        "        dset.attrs['patch_level'] = 0\n",
        "        dset.attrs['patch_size'] = 256\n",
        "        dset.attrs['save_path'] = save_dir\n",
        "\n",
        "        patch_file.close()\n",
        "\n",
        "\n",
        "\n",
        "        print()\n"
      ],
      "execution_count": null,
      "outputs": []
    },
    {
      "cell_type": "code",
      "metadata": {
        "id": "lbmgHcJjE9Rm"
      },
      "source": [
        "save_dir = 'gdrive/My Drive/RESULTS_DIRECTORY/rejoined_patches'\n",
        "image_dir = 'gdrive/My Drive/Data_Directory'\n",
        "patches_dir = 'gdrive/My Drive/RESULTS_DIRECTORY/patches'\n",
        "\n",
        "rejoinPatches(save_dir,image_dir,patches_dir)"
      ],
      "execution_count": null,
      "outputs": []
    },
    {
      "cell_type": "code",
      "metadata": {
        "id": "fPM2YJf5LDO0"
      },
      "source": [
        "files = os.listdir('gdrive/My Drive/RESULTS_DIRECTORY/patches') \n",
        "allCoordinates = np.empty((0,2), int)\n",
        "for f in files:\n",
        "    file_path = os.path.join('gdrive/My Drive/RESULTS_DIRECTORY/patches', f)   \n",
        "    fileName = f.split(\".\")\n",
        "    fileName = fileName[0].split(\"-\")\n",
        "    coordinates = [int(x) for x in fileName[1].split(\"_\")]\n",
        "    print(coordinates)\n",
        "    with h5py.File(file_path,'r') as hdf5_file:\n",
        "        dset = hdf5_file['coords']\n",
        "        for name, value in dset.attrs.items():\n",
        "            print(name, value,type(value))"
      ],
      "execution_count": null,
      "outputs": []
    },
    {
      "cell_type": "code",
      "metadata": {
        "id": "sr6rjO3aLmkw"
      },
      "source": [
        "files = os.listdir('gdrive/My Drive/RESULTS_DIRECTORY/rejoined_patches') \n",
        "#allCoordinates = np.empty((0,2), int)\n",
        "for f in files:\n",
        "    file_path = os.path.join('gdrive/My Drive/RESULTS_DIRECTORY/rejoined_patches', f)   \n",
        "    fileName = f.split(\".\")\n",
        "    fileName = fileName[0].split(\"-\")\n",
        "    #coordinates = [int(x) for x in fileName[1].split(\"_\")]\n",
        "    #print(coordinates)\n",
        "    with h5py.File(file_path,'r') as hdf5_file:\n",
        "        dset = hdf5_file['coords']\n",
        "        for name, value in dset.attrs.items():\n",
        "            print(name, value,type(value))\n",
        "    print()"
      ],
      "execution_count": null,
      "outputs": []
    },
    {
      "cell_type": "code",
      "metadata": {
        "id": "9hT_lhJte_w4"
      },
      "source": [
        "file_path = 'gdrive/My Drive/RESULTS_DIRECTORY/patches/CPM19_CBICA_ALZ_1-52000_44000.h5' \n",
        "#fileName = f.split(\".\")\n",
        "#fileName = fileName[0].split(\"-\")\n",
        "#coordinates = [int(x) for x in fileName[1].split(\"_\")]\n",
        "#print(coordinates)\n",
        "with h5py.File(file_path,'r') as hdf5_file:\n",
        "    dset = hdf5_file['coords']\n",
        "    for name, value in dset.attrs.items():\n",
        "        print(name, value,type(value))\n",
        "    print(dset[:])"
      ],
      "execution_count": null,
      "outputs": []
    },
    {
      "cell_type": "code",
      "metadata": {
        "id": "7FUeITTmHntP"
      },
      "source": [
        ""
      ],
      "execution_count": null,
      "outputs": []
    },
    {
      "cell_type": "code",
      "metadata": {
        "id": "tBMgczhiH2Ld"
      },
      "source": [
        ""
      ],
      "execution_count": null,
      "outputs": []
    }
  ]
}